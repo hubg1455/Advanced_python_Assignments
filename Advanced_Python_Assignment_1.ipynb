{
 "cells": [
  {
   "cell_type": "markdown",
   "id": "e12d4323",
   "metadata": {},
   "source": [
    "Q1. What is the purpose of Python&#39;s OOP?"
   ]
  },
  {
   "cell_type": "code",
   "execution_count": null,
   "id": "62a64918",
   "metadata": {},
   "outputs": [],
   "source": [
    "It is designed to help programmers create software that is easy to reuse and maintain."
   ]
  },
  {
   "cell_type": "markdown",
   "id": "8ce4ca9b",
   "metadata": {},
   "source": [
    "Q2. Where does an inheritance search look for an attribute?"
   ]
  },
  {
   "cell_type": "code",
   "execution_count": null,
   "id": "26a54474",
   "metadata": {},
   "outputs": [],
   "source": [
    "The search for an attribute first looks in the class of the instance, then in the classes of any superclasses."
   ]
  },
  {
   "cell_type": "markdown",
   "id": "919c3a71",
   "metadata": {},
   "source": [
    "Q3. How do you distinguish between a class object and an instance object?"
   ]
  },
  {
   "cell_type": "code",
   "execution_count": null,
   "id": "20f20cd6",
   "metadata": {},
   "outputs": [],
   "source": [
    "A class object is a template from which instance objects can be created.\n",
    "An instance object is a specific object created from a class object."
   ]
  },
  {
   "cell_type": "markdown",
   "id": "5821962d",
   "metadata": {},
   "source": [
    "Q4. What makes the first argument in a class’s method function special?"
   ]
  },
  {
   "cell_type": "code",
   "execution_count": null,
   "id": "0b571ce0",
   "metadata": {},
   "outputs": [],
   "source": [
    "The first argument in a class's method function is special because it is the object that is calling the method."
   ]
  },
  {
   "cell_type": "markdown",
   "id": "121a6268",
   "metadata": {},
   "source": [
    "Q5. What is the purpose of the __init__ method?"
   ]
  },
  {
   "cell_type": "code",
   "execution_count": null,
   "id": "d742d5c7",
   "metadata": {},
   "outputs": [],
   "source": [
    "The __init__ method is used to initialize a new instance of a class."
   ]
  },
  {
   "cell_type": "markdown",
   "id": "1b33c9c9",
   "metadata": {},
   "source": [
    "Q6. What is the process for creating a class instance?"
   ]
  },
  {
   "cell_type": "code",
   "execution_count": null,
   "id": "61760dbe",
   "metadata": {},
   "outputs": [],
   "source": [
    "The process for creating a class instance is to call the class constructor with the required arguments."
   ]
  },
  {
   "cell_type": "markdown",
   "id": "47abc695",
   "metadata": {},
   "source": [
    "Q7. What is the process for creating a class?"
   ]
  },
  {
   "cell_type": "code",
   "execution_count": null,
   "id": "86b73cb6",
   "metadata": {},
   "outputs": [],
   "source": [
    "The process for creating a class is to define a class with the keyword class.\n",
    "Then, define the class methods and attributes."
   ]
  },
  {
   "cell_type": "markdown",
   "id": "32b95b23",
   "metadata": {},
   "source": [
    "Q8. How would you define the superclasses of a class?"
   ]
  },
  {
   "cell_type": "code",
   "execution_count": null,
   "id": "852a369f",
   "metadata": {},
   "outputs": [],
   "source": [
    "A superclass is a class that is inherited from by another class."
   ]
  }
 ],
 "metadata": {
  "kernelspec": {
   "display_name": "Python 3 (ipykernel)",
   "language": "python",
   "name": "python3"
  },
  "language_info": {
   "codemirror_mode": {
    "name": "ipython",
    "version": 3
   },
   "file_extension": ".py",
   "mimetype": "text/x-python",
   "name": "python",
   "nbconvert_exporter": "python",
   "pygments_lexer": "ipython3",
   "version": "3.9.7"
  }
 },
 "nbformat": 4,
 "nbformat_minor": 5
}
