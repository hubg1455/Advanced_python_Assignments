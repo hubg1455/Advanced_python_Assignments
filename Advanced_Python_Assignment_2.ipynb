{
 "cells": [
  {
   "cell_type": "markdown",
   "id": "78ad1d1b",
   "metadata": {},
   "source": [
    "Q1. What is the relationship between classes and modules?"
   ]
  },
  {
   "cell_type": "code",
   "execution_count": null,
   "id": "6e57ca42",
   "metadata": {},
   "outputs": [],
   "source": [
    "A class defines the kind of objects that are created from it.  \n",
    "A module can define functions, classes, and variables. A module can also include runnable code."
   ]
  },
  {
   "cell_type": "markdown",
   "id": "87d0e400",
   "metadata": {},
   "source": [
    "Q2. How do you make instances and classes?"
   ]
  },
  {
   "cell_type": "code",
   "execution_count": null,
   "id": "05ff7b6f",
   "metadata": {},
   "outputs": [],
   "source": [
    "An instance is a specific object created from a class."
   ]
  },
  {
   "cell_type": "markdown",
   "id": "db3daf39",
   "metadata": {},
   "source": [
    "Q3. Where and how should be class attributes created?"
   ]
  },
  {
   "cell_type": "code",
   "execution_count": null,
   "id": "9e4a0098",
   "metadata": {},
   "outputs": [],
   "source": [
    "x_attr = 'foo'\n",
    "\n",
    "y_attr = 'bar'\n",
    "\n",
    "__init__ method:\n",
    "\n",
    "class MyClass:\n",
    "\n",
    "def __init__(self):\n",
    "\n",
    "self.x_attr = 'foo'\n",
    "\n",
    "self.y_attr = 'bar'"
   ]
  },
  {
   "cell_type": "markdown",
   "id": "e6fc8c38",
   "metadata": {},
   "source": [
    "Q4. Where and how are instance attributes created?"
   ]
  },
  {
   "cell_type": "code",
   "execution_count": 1,
   "id": "d1436537",
   "metadata": {},
   "outputs": [],
   "source": [
    "Instance attributes are created when an instance of a class is created. \n",
    "They are assigned to the instance using the dot notation. e.g.\n",
    "\n",
    "class Student:\n",
    "    def __init__(self, name, age): \n",
    "        self.name = name\n",
    "        self.age = age"
   ]
  },
  {
   "cell_type": "markdown",
   "id": "f3566e4e",
   "metadata": {},
   "source": [
    "Q5. What does the term &quot;self&quot; in a Python class mean?"
   ]
  },
  {
   "cell_type": "code",
   "execution_count": null,
   "id": "41c7fdde",
   "metadata": {},
   "outputs": [],
   "source": [
    "The term \"self\" in a Python class refers to the instance of the class."
   ]
  },
  {
   "cell_type": "markdown",
   "id": "2be6132b",
   "metadata": {},
   "source": [
    "Q6. How does a Python class handle operator overloading?"
   ]
  },
  {
   "cell_type": "code",
   "execution_count": null,
   "id": "930ca299",
   "metadata": {},
   "outputs": [],
   "source": [
    "In the method overloading, methods or functions must have the same name and different signatures."
   ]
  },
  {
   "cell_type": "markdown",
   "id": "0159bfa2",
   "metadata": {},
   "source": [
    "Q7. When do you consider allowing operator overloading of your classes?"
   ]
  },
  {
   "cell_type": "code",
   "execution_count": null,
   "id": "8f5adc3b",
   "metadata": {},
   "outputs": [],
   "source": [
    "In general, only consider operator overloading when need to change the meaning of an operator for a specific type of object.\n",
    "For example, the + operator typically represents addition, but if we are creating a complex number class, \n",
    "might want to overload it to represent the addition of two complex numbers."
   ]
  },
  {
   "cell_type": "markdown",
   "id": "ebbdf2e1",
   "metadata": {},
   "source": [
    "Q8. What is the most popular form of operator overloading?"
   ]
  },
  {
   "cell_type": "code",
   "execution_count": null,
   "id": "fa62901f",
   "metadata": {},
   "outputs": [],
   "source": [
    "the most popular form of operator overloading is Addition (+) operator. \n",
    "The '+' operator operates on two numbers and the same operator operates on two strings. \n",
    "It performs “Addition” on numbers whereas it performs “Concatenation” on strings."
   ]
  },
  {
   "cell_type": "markdown",
   "id": "ae7fe3b7",
   "metadata": {},
   "source": [
    "Q9. What are the two most important concepts to grasp in order to comprehend Python OOP code?"
   ]
  },
  {
   "cell_type": "code",
   "execution_count": null,
   "id": "8ed0929b",
   "metadata": {},
   "outputs": [],
   "source": [
    "The two most important concepts to grasp in order to comprehend Python OOP code are classes and objects."
   ]
  }
 ],
 "metadata": {
  "kernelspec": {
   "display_name": "Python 3 (ipykernel)",
   "language": "python",
   "name": "python3"
  },
  "language_info": {
   "codemirror_mode": {
    "name": "ipython",
    "version": 3
   },
   "file_extension": ".py",
   "mimetype": "text/x-python",
   "name": "python",
   "nbconvert_exporter": "python",
   "pygments_lexer": "ipython3",
   "version": "3.9.7"
  }
 },
 "nbformat": 4,
 "nbformat_minor": 5
}
