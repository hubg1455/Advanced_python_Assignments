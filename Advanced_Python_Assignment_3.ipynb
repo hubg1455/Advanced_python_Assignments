{
 "cells": [
  {
   "cell_type": "markdown",
   "id": "6f035131",
   "metadata": {},
   "source": [
    "1. What is the concept of an abstract superclass?"
   ]
  },
  {
   "cell_type": "code",
   "execution_count": null,
   "id": "4750fbd9",
   "metadata": {},
   "outputs": [],
   "source": [
    "An abstract superclass is a class that defines one or more abstract methods. \n",
    "Abstract methods are methods that are declared, but not implemented in the superclass."
   ]
  },
  {
   "cell_type": "markdown",
   "id": "0de8cc25",
   "metadata": {},
   "source": [
    "2. What happens when a class statement&#39;s top level contains a basic assignment statement?"
   ]
  },
  {
   "cell_type": "code",
   "execution_count": null,
   "id": "e532ff6a",
   "metadata": {},
   "outputs": [],
   "source": [
    "The class statement's top level assignment statement is executed when the class statement is executed."
   ]
  },
  {
   "cell_type": "markdown",
   "id": "9b36d131",
   "metadata": {},
   "source": [
    "3. Why does a class need to manually call a superclass&#39;s __init__ method?"
   ]
  },
  {
   "cell_type": "code",
   "execution_count": null,
   "id": "400af4ed",
   "metadata": {},
   "outputs": [],
   "source": [
    "The __init__ method is called when the object is created. The __init__ method is responsible for initializing the object."
   ]
  },
  {
   "cell_type": "markdown",
   "id": "2ea6cef5",
   "metadata": {},
   "source": [
    "4. How can you augment, instead of completely replacing, an inherited method?"
   ]
  },
  {
   "cell_type": "code",
   "execution_count": null,
   "id": "015db9e9",
   "metadata": {},
   "outputs": [],
   "source": [
    "we can use built in function 'super'"
   ]
  },
  {
   "cell_type": "markdown",
   "id": "d2dbbfaa",
   "metadata": {},
   "source": [
    "5. How is the local scope of a class different from that of a function?"
   ]
  },
  {
   "cell_type": "code",
   "execution_count": null,
   "id": "2dbea41a",
   "metadata": {},
   "outputs": [],
   "source": [
    "A class can access variables in the global scope, while a function can only access variables in the local scope."
   ]
  }
 ],
 "metadata": {
  "kernelspec": {
   "display_name": "Python 3 (ipykernel)",
   "language": "python",
   "name": "python3"
  },
  "language_info": {
   "codemirror_mode": {
    "name": "ipython",
    "version": 3
   },
   "file_extension": ".py",
   "mimetype": "text/x-python",
   "name": "python",
   "nbconvert_exporter": "python",
   "pygments_lexer": "ipython3",
   "version": "3.9.7"
  }
 },
 "nbformat": 4,
 "nbformat_minor": 5
}
