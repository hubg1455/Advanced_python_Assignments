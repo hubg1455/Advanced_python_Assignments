{
 "cells": [
  {
   "cell_type": "markdown",
   "id": "eba9e659",
   "metadata": {},
   "source": [
    "Q1. Which two operator overloading methods can you use in your classes to support iteration?"
   ]
  },
  {
   "cell_type": "code",
   "execution_count": null,
   "id": "3cce402c",
   "metadata": {},
   "outputs": [],
   "source": [
    "__iter__ and __next__ method"
   ]
  },
  {
   "cell_type": "markdown",
   "id": "69a6d59a",
   "metadata": {},
   "source": [
    "Q2. In what contexts do the two operator overloading methods manage printing?"
   ]
  },
  {
   "cell_type": "code",
   "execution_count": null,
   "id": "de39c25c",
   "metadata": {},
   "outputs": [],
   "source": [
    "The two operator overloading methods manage printing when the print() function is called."
   ]
  },
  {
   "cell_type": "markdown",
   "id": "e85eb67a",
   "metadata": {},
   "source": [
    "Q3. In a class, how do you intercept slice operations?"
   ]
  },
  {
   "cell_type": "code",
   "execution_count": null,
   "id": "96d3dbc2",
   "metadata": {},
   "outputs": [],
   "source": [
    "You can intercept slice operations by creating a custom __getslice__ method."
   ]
  },
  {
   "cell_type": "markdown",
   "id": "7a05a892",
   "metadata": {},
   "source": [
    "Q4. In a class, how do you capture in-place addition?"
   ]
  },
  {
   "cell_type": "code",
   "execution_count": null,
   "id": "48db7633",
   "metadata": {},
   "outputs": [],
   "source": [
    "In-place addition can be captured by using the \"+=\" operator."
   ]
  },
  {
   "cell_type": "markdown",
   "id": "25093f69",
   "metadata": {},
   "source": [
    "Q5. When is it appropriate to use operator overloading?"
   ]
  },
  {
   "cell_type": "code",
   "execution_count": null,
   "id": "b623793f",
   "metadata": {},
   "outputs": [],
   "source": [
    "when we want to define the behavior of operators for user-defined types."
   ]
  }
 ],
 "metadata": {
  "kernelspec": {
   "display_name": "Python 3 (ipykernel)",
   "language": "python",
   "name": "python3"
  },
  "language_info": {
   "codemirror_mode": {
    "name": "ipython",
    "version": 3
   },
   "file_extension": ".py",
   "mimetype": "text/x-python",
   "name": "python",
   "nbconvert_exporter": "python",
   "pygments_lexer": "ipython3",
   "version": "3.9.7"
  }
 },
 "nbformat": 4,
 "nbformat_minor": 5
}
